{
 "cells": [
  {
   "cell_type": "markdown",
   "metadata": {},
   "source": [
    "# Import Libraries"
   ]
  },
  {
   "cell_type": "code",
   "execution_count": 1,
   "metadata": {},
   "outputs": [],
   "source": [
    "%matplotlib inline\n",
    "\n",
    "import tensorflow as tf\n",
    "import numpy as np\n",
    "import matplotlib.pyplot as plt"
   ]
  },
  {
   "cell_type": "markdown",
   "metadata": {},
   "source": [
    "# Download Data"
   ]
  },
  {
   "cell_type": "code",
   "execution_count": 2,
   "metadata": {},
   "outputs": [],
   "source": [
    "(X_train, y_train), (X_test, y_test) = tf.keras.datasets.mnist.load_data()"
   ]
  },
  {
   "cell_type": "markdown",
   "metadata": {},
   "source": [
    "# Plot Examples"
   ]
  },
  {
   "cell_type": "code",
   "execution_count": 5,
   "metadata": {},
   "outputs": [
    {
     "data": {
      "image/png": "[encoded data removed]",
      "text/plain": [
       "<Figure size 576x576 with 16 Axes>"
      ]
     },
     "metadata": {},
     "output_type": "display_data"
    }
   ],
   "source": [
    "plt.figure(figsize = (8, 8))\n",
    "\n",
    "for i in range(16):\n",
    "    plt.subplot(4, 4, i + 1)\n",
    "    plt.imshow(X_train[i], cmap = 'binary')\n",
    "    plt.xlabel(str(y_train[i]))\n",
    "    plt.xticks([])\n",
    "    plt.yticks([])\n",
    "plt.show()"
   ]
  },
  {
   "cell_type": "markdown",
   "metadata": {},
   "source": [
    "# Normalize Data"
   ]
  },
  {
   "cell_type": "code",
   "execution_count": 6,
   "metadata": {},
   "outputs": [
    {
     "data": {
      "text/plain": [
       "(60000, 28, 28)"
      ]
     },
     "execution_count": 6,
     "metadata": {},
     "output_type": "execute_result"
    }
   ],
   "source": [
    "X_train.shape"
   ]
  },
  {
   "cell_type": "code",
   "execution_count": 7,
   "metadata": {},
   "outputs": [
    {
     "data": {
      "text/plain": [
       "(10000, 28, 28)"
      ]
     },
     "execution_count": 7,
     "metadata": {},
     "output_type": "execute_result"
    }
   ],
   "source": [
    "X_test.shape"
   ]
  },
  {
   "cell_type": "code",
   "execution_count": 8,
   "metadata": {},
   "outputs": [],
   "source": [
    "# reshape the array\n",
    "X_train = np.reshape(X_train, (60000, 28 * 28))\n",
    "X_test = np.reshape(X_test, (10000, 28 * 28))"
   ]
  },
  {
   "cell_type": "code",
   "execution_count": 9,
   "metadata": {},
   "outputs": [
    {
     "data": {
      "text/plain": [
       "(60000, 784)"
      ]
     },
     "execution_count": 9,
     "metadata": {},
     "output_type": "execute_result"
    }
   ],
   "source": [
    "X_train.shape"
   ]
  },
  {
   "cell_type": "code",
   "execution_count": 10,
   "metadata": {},
   "outputs": [],
   "source": [
    "X_train = X_train / 255.0\n",
    "X_test = X_test / 255.0"
   ]
  },
  {
   "cell_type": "markdown",
   "metadata": {},
   "source": [
    "# Create a Neural Network Model"
   ]
  },
  {
   "cell_type": "code",
   "execution_count": 11,
   "metadata": {},
   "outputs": [],
   "source": [
    "model = tf.keras.models.Sequential()\n",
    "# we are using the sigmoid activation to make the visualization part better.\n",
    "# if relu is used, you need to normalize the results later.\n",
    "model.add(tf.keras.layers.Dense(32, activation = 'sigmoid', input_shape = (784, )))\n",
    "model.add(tf.keras.layers.Dense(32, activation = 'sigmoid'))\n",
    "model.add(tf.keras.layers.Dense(10, activation = 'softmax'))"
   ]
  },
  {
   "cell_type": "code",
   "execution_count": 12,
   "metadata": {},
   "outputs": [],
   "source": [
    "# for loss = sparse cross entropy we do not need to worry about one hot encoding\n",
    "model.compile(loss = 'sparse_categorical_crossentropy', optimizer = 'adam', metrics = ['accuracy'])"
   ]
  },
  {
   "cell_type": "markdown",
   "metadata": {},
   "source": [
    "# Train the model"
   ]
  },
  {
   "cell_type": "code",
   "execution_count": 16,
   "metadata": {},
   "outputs": [
    {
     "name": "stdout",
     "output_type": "stream",
     "text": [
      "Epoch 1/20\n",
      "59/59 - 1s - loss: 0.3348 - accuracy: 0.9176 - val_loss: 0.3231 - val_accuracy: 0.9182\n",
      "Epoch 2/20\n",
      "59/59 - 1s - loss: 0.3111 - accuracy: 0.9223 - val_loss: 0.3031 - val_accuracy: 0.9211\n",
      "Epoch 3/20\n",
      "59/59 - 1s - loss: 0.2917 - accuracy: 0.9258 - val_loss: 0.2862 - val_accuracy: 0.9261\n",
      "Epoch 4/20\n",
      "59/59 - 1s - loss: 0.2754 - accuracy: 0.9288 - val_loss: 0.2728 - val_accuracy: 0.9267\n",
      "Epoch 5/20\n",
      "59/59 - 0s - loss: 0.2616 - accuracy: 0.9316 - val_loss: 0.2601 - val_accuracy: 0.9296\n",
      "Epoch 6/20\n",
      "59/59 - 0s - loss: 0.2494 - accuracy: 0.9346 - val_loss: 0.2499 - val_accuracy: 0.9322\n",
      "Epoch 7/20\n",
      "59/59 - 0s - loss: 0.2385 - accuracy: 0.9372 - val_loss: 0.2407 - val_accuracy: 0.9339\n",
      "Epoch 8/20\n",
      "59/59 - 0s - loss: 0.2291 - accuracy: 0.9395 - val_loss: 0.2325 - val_accuracy: 0.9358\n",
      "Epoch 9/20\n",
      "59/59 - 1s - loss: 0.2202 - accuracy: 0.9418 - val_loss: 0.2245 - val_accuracy: 0.9373\n",
      "Epoch 10/20\n",
      "59/59 - 0s - loss: 0.2124 - accuracy: 0.9436 - val_loss: 0.2187 - val_accuracy: 0.9385\n",
      "Epoch 11/20\n",
      "59/59 - 0s - loss: 0.2054 - accuracy: 0.9452 - val_loss: 0.2118 - val_accuracy: 0.9399\n",
      "Epoch 12/20\n",
      "59/59 - 0s - loss: 0.1985 - accuracy: 0.9468 - val_loss: 0.2066 - val_accuracy: 0.9411\n",
      "Epoch 13/20\n",
      "59/59 - 0s - loss: 0.1923 - accuracy: 0.9485 - val_loss: 0.2011 - val_accuracy: 0.9423\n",
      "Epoch 14/20\n",
      "59/59 - 0s - loss: 0.1867 - accuracy: 0.9500 - val_loss: 0.1964 - val_accuracy: 0.9436\n",
      "Epoch 15/20\n",
      "59/59 - 1s - loss: 0.1814 - accuracy: 0.9516 - val_loss: 0.1922 - val_accuracy: 0.9451\n",
      "Epoch 16/20\n",
      "59/59 - 0s - loss: 0.1762 - accuracy: 0.9527 - val_loss: 0.1871 - val_accuracy: 0.9460\n",
      "Epoch 17/20\n",
      "59/59 - 0s - loss: 0.1714 - accuracy: 0.9536 - val_loss: 0.1834 - val_accuracy: 0.9475\n",
      "Epoch 18/20\n",
      "59/59 - 1s - loss: 0.1666 - accuracy: 0.9552 - val_loss: 0.1801 - val_accuracy: 0.9477\n",
      "Epoch 19/20\n",
      "59/59 - 1s - loss: 0.1627 - accuracy: 0.9560 - val_loss: 0.1761 - val_accuracy: 0.9488\n",
      "Epoch 20/20\n",
      "59/59 - 0s - loss: 0.1584 - accuracy: 0.9570 - val_loss: 0.1739 - val_accuracy: 0.9495\n"
     ]
    },
    {
     "data": {
      "text/plain": [
       "<tensorflow.python.keras.callbacks.History at 0x7f6c265f1320>"
      ]
     },
     "execution_count": 16,
     "metadata": {},
     "output_type": "execute_result"
    }
   ],
   "source": [
    "# fitting the model on the training data\n",
    "model.fit(X_train, y_train, validation_data = (X_test, y_test), epochs = 20, batch_size = 1024, verbose = 2)"
   ]
  },
  {
   "cell_type": "code",
   "execution_count": 15,
   "metadata": {},
   "outputs": [
    {
     "name": "stdout",
     "output_type": "stream",
     "text": [
      "Model: \"sequential\"\n",
      "_________________________________________________________________\n",
      "Layer (type)                 Output Shape              Param #   \n",
      "=================================================================\n",
      "dense (Dense)                (None, 32)                25120     \n",
      "_________________________________________________________________\n",
      "dense_1 (Dense)              (None, 32)                1056      \n",
      "_________________________________________________________________\n",
      "dense_2 (Dense)              (None, 10)                330       \n",
      "=================================================================\n",
      "Total params: 26,506\n",
      "Trainable params: 26,506\n",
      "Non-trainable params: 0\n",
      "_________________________________________________________________\n"
     ]
    }
   ],
   "source": [
    "model.summary()"
   ]
  },
  {
   "cell_type": "markdown",
   "metadata": {},
   "source": [
    "# Save the Model"
   ]
  },
  {
   "cell_type": "code",
   "execution_count": 17,
   "metadata": {},
   "outputs": [],
   "source": [
    "model.save('model.h5')"
   ]
  },
  {
   "cell_type": "markdown",
   "metadata": {},
   "source": [
    "# ML Server"
   ]
  },
  {
   "cell_type": "code",
   "execution_count": 20,
   "metadata": {},
   "outputs": [
    {
     "name": "stdout",
     "output_type": "stream",
     "text": [
      "Overwriting ml_server.py\n"
     ]
    }
   ],
   "source": [
    "%%writefile ml_server.py\n",
    "\n",
    "import json\n",
    "import tensorflow as tf\n",
    "import numpy as np\n",
    "import random\n",
    "\n",
    "from flask import Flask, request\n",
    "\n",
    "app = Flask(__name__)\n",
    "\n",
    "model = tf.keras.models.load_model('model.h5')\n",
    "feature_model = tf.keras.models.Model(\n",
    "    model.inputs,\n",
    "    [layer.output for layer in model.layers]\n",
    ")\n",
    "\n",
    "_, (X_test, _) = tf.keras.datasets.mnist.load_data()\n",
    "X_test = X_test / 255.0\n",
    "\n",
    "def get_prediction():\n",
    "    index = np.random.choice(X_test.shape[0])\n",
    "    image = X_test[index, :, :]\n",
    "    image_arr = np.reshape(image, (1, 784))\n",
    "    \n",
    "    return feature_model.predict(image_arr), image\n",
    "    \n",
    "@app.route('/', methods = ['GET', 'POST'])\n",
    "def index():\n",
    "    if request.method == 'POST':\n",
    "        preds, image = get_prediction()\n",
    "        # below thing is done to facilitate the conversion into json object.\n",
    "        final_preds = [p.tolist() for p in preds]\n",
    "        return json.dumps({\n",
    "            'prediction' : final_preds,\n",
    "            'image' : image.tolist()\n",
    "        })\n",
    "    return 'Welcome to the model server!'\n",
    "\n",
    "if __name__ == '__main__':\n",
    "    app.run(debug = True)"
   ]
  },
  {
   "cell_type": "markdown",
   "metadata": {},
   "source": [
    "# Streamlit Web App"
   ]
  },
  {
   "cell_type": "code",
   "execution_count": 34,
   "metadata": {},
   "outputs": [
    {
     "name": "stdout",
     "output_type": "stream",
     "text": [
      "Overwriting app.py\n"
     ]
    }
   ],
   "source": [
    "%%writefile app.py\n",
    "\n",
    "import streamlit as st\n",
    "import json\n",
    "import requests\n",
    "import matplotlib.pyplot as plt\n",
    "import numpy as np\n",
    "\n",
    "URI = 'http://127.0.0.1:5000'\n",
    "\n",
    "st.title('Neural Network Visualizer')\n",
    "st.sidebar.markdown('## Generated Input Image')\n",
    "\n",
    "if st.button('Generate Image'):\n",
    "    response = requests.post(URI, data = {})\n",
    "    response = json.loads(response.text)\n",
    "    preds = response.get('prediction')\n",
    "    image = response.get('image')\n",
    "    image = np.reshape(image , (28, 28))\n",
    "    \n",
    "    st.sidebar.image(image, width = 150)\n",
    "    \n",
    "    for layer, p in enumerate(preds):\n",
    "        \n",
    "        numbers = np.squeeze(np.array(p))\n",
    "        \n",
    "        plt.figure(figsize = (32, 4))\n",
    "        \n",
    "        if layer == 2: #output row\n",
    "            row, col = 1, 10\n",
    "        else:\n",
    "            row,col = 2, 16\n",
    "        \n",
    "        for i, number in enumerate(numbers):\n",
    "            plt.subplot(row, col, i + 1)\n",
    "            plt.imshow(number * np.ones((8, 8, 3)).astype('float32'))\n",
    "            plt.xticks([])\n",
    "            plt.yticks([])\n",
    "\n",
    "            if layer == 2:\n",
    "                plt.xlabel(str(i), fontsize = 42)\n",
    "        \n",
    "        plt.subplots_adjust(wspace = 0.05, hspace = 0.05)\n",
    "        plt.tight_layout()\n",
    "        st.text('Layer {}'.format(layer + 1))\n",
    "        st.pyplot()\n",
    "        "
   ]
  },
  {
   "cell_type": "code",
   "execution_count": null,
   "metadata": {},
   "outputs": [],
   "source": []
  }
 ],
 "metadata": {
  "kernelspec": {
   "display_name": "Python 3",
   "language": "python",
   "name": "python3"
  },
  "language_info": {
   "codemirror_mode": {
    "name": "ipython",
    "version": 3
   },
   "file_extension": ".py",
   "mimetype": "text/x-python",
   "name": "python",
   "nbconvert_exporter": "python",
   "pygments_lexer": "ipython3",
   "version": "3.6.9"
  }
 },
 "nbformat": 4,
 "nbformat_minor": 4
}
